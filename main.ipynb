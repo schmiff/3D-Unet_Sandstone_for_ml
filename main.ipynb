{
 "cells": [
  {
   "cell_type": "markdown",
   "metadata": {},
   "source": [
    "# Multiclass segmentation of sandstone with 3D U-Net "
   ]
  },
  {
   "cell_type": "markdown",
   "metadata": {},
   "source": [
    "### Imports "
   ]
  },
  {
   "cell_type": "code",
   "execution_count": 42,
   "metadata": {},
   "outputs": [
    {
     "name": "stdout",
     "output_type": "stream",
     "text": [
      "2.9.0\n",
      "/device:GPU:0\n"
     ]
    }
   ],
   "source": [
    "# Setup tensorflow\n",
    "import tensorflow as tf\n",
    "# Check tensorflow version\n",
    "print(tf.__version__)\n",
    "# Check GPU configuration \n",
    "print(tf.test.gpu_device_name())\n",
    "# import segmentation models\n",
    "import segmentation_models_3D as sm\n",
    "# remaining imports \n",
    "from skimage import io\n",
    "from patchify import patchify, unpatchify\n",
    "import numpy as np\n",
    "import matplotlib.pyplot as plt\n",
    "plt.style.use('dark_background')\n",
    "from tensorflow.keras import backend as K\n",
    "from tensorflow.keras.utils import to_categorical\n",
    "from sklearn.model_selection import train_test_split"
   ]
  },
  {
   "cell_type": "markdown",
   "metadata": {},
   "source": [
    "### Load the training images and masks "
   ]
  },
  {
   "cell_type": "code",
   "execution_count": 48,
   "metadata": {},
   "outputs": [
    {
     "ename": "AttributeError",
     "evalue": "module 'private_path' has no attribute 'img_path'",
     "output_type": "error",
     "traceback": [
      "\u001b[1;31m---------------------------------------------------------------------------\u001b[0m",
      "\u001b[1;31mAttributeError\u001b[0m                            Traceback (most recent call last)",
      "\u001b[1;32m~\\AppData\\Local\\Temp/ipykernel_6840/4191588470.py\u001b[0m in \u001b[0;36m<module>\u001b[1;34m\u001b[0m\n\u001b[0;32m      5\u001b[0m \u001b[1;33m\u001b[0m\u001b[0m\n\u001b[0;32m      6\u001b[0m \u001b[1;31m# Load 256x256x256 pixel image and mask volumes and break it in more managable 64x64x64 patches for training with patchify\u001b[0m\u001b[1;33m\u001b[0m\u001b[1;33m\u001b[0m\u001b[1;33m\u001b[0m\u001b[0m\n\u001b[1;32m----> 7\u001b[1;33m \u001b[0mimage\u001b[0m \u001b[1;33m=\u001b[0m \u001b[0mio\u001b[0m\u001b[1;33m.\u001b[0m\u001b[0mimread\u001b[0m\u001b[1;33m(\u001b[0m\u001b[0mprivate_path\u001b[0m\u001b[1;33m.\u001b[0m\u001b[0mimg_path\u001b[0m\u001b[1;33m)\u001b[0m\u001b[1;33m\u001b[0m\u001b[1;33m\u001b[0m\u001b[0m\n\u001b[0m\u001b[0;32m      8\u001b[0m \u001b[0mimg_patches\u001b[0m \u001b[1;33m=\u001b[0m \u001b[0mpatchify\u001b[0m\u001b[1;33m(\u001b[0m\u001b[0mimage\u001b[0m\u001b[1;33m,\u001b[0m \u001b[1;33m(\u001b[0m\u001b[1;36m64\u001b[0m\u001b[1;33m,\u001b[0m\u001b[1;36m64\u001b[0m\u001b[1;33m,\u001b[0m\u001b[1;36m64\u001b[0m\u001b[1;33m)\u001b[0m\u001b[1;33m,\u001b[0m \u001b[0mstep\u001b[0m\u001b[1;33m=\u001b[0m\u001b[1;36m64\u001b[0m\u001b[1;33m)\u001b[0m \u001b[1;31m# step 64 -> no overlap 256/64\u001b[0m\u001b[1;33m\u001b[0m\u001b[1;33m\u001b[0m\u001b[0m\n\u001b[0;32m      9\u001b[0m \u001b[1;33m\u001b[0m\u001b[0m\n",
      "\u001b[1;31mAttributeError\u001b[0m: module 'private_path' has no attribute 'img_path'"
     ]
    }
   ],
   "source": [
    "# The dataset is taken from youtube channels of @Apeer_micro & @digitalsreeni\n",
    "# download link:\n",
    "# https://www.youtube.com/redirect?event=video_description&redir_token=QUFFLUhqbWhzd0k3MDRONlgwbDNGSFBwdFVIa0E5ZlVRd3xBQ3Jtc0ttRTFZc2MybGtPOWxGdTljRmFnUEFqLXNqSEpwVktPNUJEek11dDNkT01hTV95dHFhWmtSZGRXUUl3ZmtzSjFOaDJjaHI5dUZta3hfUkRvYjMyXzZmNzZaNkRMQXdjYkNUemtOeTFHRDk5NDJPRzE2SQ&q=https%3A%2F%2Fdrive.google.com%2Ffile%2Fd%2F1HWtBaSa-LTyAMgf2uaz1T9o1sTWDBajU%2Fview%3Fusp%3Dsharing&v=Dt73QWZQck4\n",
    "from private_path import image_path, mask_path\n",
    "\n",
    "# Load 256x256x256 pixel image and mask volumes and break it in more managable 64x64x64 patches for training with patchify\n",
    "image = io.imread(image_path) \n",
    "img_patches = patchify(image, (64,64,64), step=64) # step 64 -> no overlap 256/64\n",
    "\n",
    "mask = io.imread(mask_path)\n",
    "mask_patches = patchify(mask, (64,64,64), step=64)\n",
    "\n",
    "print(img_patches.shape)"
   ]
  }
 ],
 "metadata": {
  "kernelspec": {
   "display_name": "Python 3.8.9 64-bit",
   "language": "python",
   "name": "python3"
  },
  "language_info": {
   "codemirror_mode": {
    "name": "ipython",
    "version": 3
   },
   "file_extension": ".py",
   "mimetype": "text/x-python",
   "name": "python",
   "nbconvert_exporter": "python",
   "pygments_lexer": "ipython3",
   "version": "3.8.9"
  },
  "orig_nbformat": 4,
  "vscode": {
   "interpreter": {
    "hash": "397d22a1315594fbc5de7ed0876799efca3b4b2a26444fe1cd01994340f2e152"
   }
  }
 },
 "nbformat": 4,
 "nbformat_minor": 2
}
